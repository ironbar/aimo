{
 "cells": [
  {
   "cell_type": "markdown",
   "metadata": {},
   "source": [
    "# Optimal stopping criteria for self consistency"
   ]
  },
  {
   "cell_type": "markdown",
   "metadata": {},
   "source": [
    "How can we find the optimal stopping criteria for self consistency.\n",
    "\n",
    "I believe the optimal strategy is to find if the probability of the most repeated answer is higher\n",
    "than the probability of the second most repeated answer. If we can say that the difference is significative\n",
    "for some confidence level then it does not have sense to sample more answers.\n",
    "\n",
    "This strategy should be better than previous approaches because:\n",
    "\n",
    "- It is theoretically grounded\n",
    "- It takes into account the second most repeated answer, previous methods didn't. The following examples are not the same: `[5, 5, 5, 3, 4]` and `[5, 5, 5, 4, 4]`, the confidence levels are 48% and 84%, so the difference is huge."
   ]
  },
  {
   "cell_type": "markdown",
   "metadata": {},
   "source": [
    "## Code"
   ]
  },
  {
   "cell_type": "code",
   "execution_count": null,
   "metadata": {},
   "outputs": [],
   "source": [
    "import pandas as pd\n",
    "import numpy as np\n",
    "import matplotlib.pyplot as plt\n",
    "import matplotlib as mpl\n",
    "import re\n",
    "from IPython.display import display, Markdown\n",
    "import json\n",
    "from tqdm.auto import tqdm\n",
    "\n",
    "from transformers import AutoTokenizer\n",
    "\n",
    "plt.plot()\n",
    "plt.close('all')\n",
    "plt.rcParams[\"figure.figsize\"] = (20, 5)\n",
    "mpl.rcParams['lines.linewidth'] = 3\n",
    "mpl.rcParams['font.size'] = 16"
   ]
  },
  {
   "cell_type": "code",
   "execution_count": null,
   "metadata": {},
   "outputs": [],
   "source": [
    "import logging\n",
    "from scipy.stats import norm\n",
    "\n",
    "for handler in logging.root.handlers[:]:\n",
    "    logging.root.removeHandler(handler)\n",
    "logging.basicConfig(level=logging.INFO,\n",
    "                    format='%(asctime)s - %(levelname)s - %(message)s')\n",
    "\n",
    "\n",
    "def is_difference_significative(n_first, n_second, n_tries, confidence_level=0.85):\n",
    "    if n_second == 0:\n",
    "        # uncertainty estimation equations do not work with n_second = 0\n",
    "        if n_first == n_tries:\n",
    "            return is_difference_significative(n_first, 1, n_tries + 1, confidence_level)\n",
    "        elif n_first < n_tries:\n",
    "            return is_difference_significative(n_first, 1, n_tries, confidence_level)\n",
    "        else:\n",
    "            raise ValueError()\n",
    "    p_first = n_first/n_tries\n",
    "    p_second = n_second/n_tries\n",
    "    diff_variance = (p_first*(1-p_first)/n_tries + p_second*(1-p_second)/n_tries)**0.5\n",
    "    z = (p_first - p_second)/diff_variance\n",
    "    logging.info(f'p_first: {p_first*100:.1f}% p_second: {p_second*100:.1f}% Confidence level for the difference: {2*(norm.cdf(z) - 0.5)*100:.1f}%')\n",
    "    return z > norm.interval(confidence_level)[1]\n",
    "\n",
    "is_difference_significative(4, 0, 4)"
   ]
  },
  {
   "cell_type": "markdown",
   "metadata": {},
   "source": [
    "## Visualization against previous stopping criteria"
   ]
  },
  {
   "cell_type": "code",
   "execution_count": null,
   "metadata": {},
   "outputs": [],
   "source": [
    "stopping_criterias = dict(sqrt=[])\n",
    "\n",
    "for n_tries in range(1, 21):\n",
    "    for n_first in range(1, n_tries + 1):\n",
    "        if n_first > n_tries**0.5:\n",
    "            stopping_criterias['sqrt'].append([n_tries, n_first])\n",
    "            break\n",
    "\n",
    "for confidence_level in [0.6, 0.8, 0.9, 0.95]:\n",
    "    key = f'confidence_level_{confidence_level:.2f}'\n",
    "    stopping_criterias[key] = []\n",
    "    for n_tries in range(1, 21):\n",
    "        for n_first in range(1, n_tries + 1):\n",
    "            if is_difference_significative(n_first, 0, n_tries, confidence_level=confidence_level):\n",
    "                stopping_criterias[key].append([n_tries, n_first])\n",
    "                break\n",
    "\n",
    "stopping_criterias"
   ]
  },
  {
   "cell_type": "code",
   "execution_count": null,
   "metadata": {},
   "outputs": [],
   "source": [
    "offset = 0.04\n",
    "for stopping_criteria, values in stopping_criterias.items():\n",
    "    logging.info(f'{stopping_criteria}:')\n",
    "    values = np.array(values)\n",
    "    plt.plot(values[:, 0], values[:, 1] + offset, label=stopping_criteria)\n",
    "    offset -= 0.04\n",
    "\n",
    "\n",
    "plt.xlim(2, 20)\n",
    "plt.xticks(range(2, 21))\n",
    "plt.yticks(range(2, 6))\n",
    "plt.legend()\n",
    "plt.grid()\n",
    "plt.xlabel('Number of tries')\n",
    "plt.ylabel('Number of successes to stop')"
   ]
  },
  {
   "cell_type": "markdown",
   "metadata": {},
   "source": [
    "The `sqrt` criteria is different to all the proposed confidence levels. At low number of tries it behaves like a confidence level of 60%, but at higher number of tries behaves like a 90% confidence level."
   ]
  },
  {
   "cell_type": "markdown",
   "metadata": {},
   "source": [
    "On all my previous experiments I was simply using a majority criteria threshold, f.e. for 8 tries I required 4 identical responses.\n",
    "I believe the biggest advantage will come from devoting more compute to harder problems."
   ]
  },
  {
   "cell_type": "markdown",
   "metadata": {},
   "source": [
    "## TODO:"
   ]
  },
  {
   "cell_type": "markdown",
   "metadata": {},
   "source": [
    "- [x] Better logging of results\n",
    "- [x] Document different options and compare to previous implementations\n",
    "- [x] Why this is good? It uses all the information, not just the most frequent answer\n",
    "- [ ] Implement in code and compare speed and results"
   ]
  }
 ],
 "metadata": {
  "kernelspec": {
   "display_name": "prometeo",
   "language": "python",
   "name": "python3"
  },
  "language_info": {
   "codemirror_mode": {
    "name": "ipython",
    "version": 3
   },
   "file_extension": ".py",
   "mimetype": "text/x-python",
   "name": "python",
   "nbconvert_exporter": "python",
   "pygments_lexer": "ipython3",
   "version": "3.10.13"
  }
 },
 "nbformat": 4,
 "nbformat_minor": 2
}
