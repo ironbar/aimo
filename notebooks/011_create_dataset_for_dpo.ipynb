{
 "cells": [
  {
   "cell_type": "markdown",
   "metadata": {},
   "source": [
    "# Create dataset for DPO"
   ]
  },
  {
   "cell_type": "markdown",
   "metadata": {},
   "source": [
    "## Goal"
   ]
  },
  {
   "cell_type": "markdown",
   "metadata": {},
   "source": [
    "Create a dataset with the required format for DPO fine-tuning:\n",
    "\n",
    "- https://huggingface.co/docs/trl/main/en/dpo_trainer#expected-dataset-format"
   ]
  },
  {
   "cell_type": "markdown",
   "metadata": {},
   "source": [
    "The dataframe should have the following fields: prompt, chosen and rejected."
   ]
  },
  {
   "cell_type": "markdown",
   "metadata": {},
   "source": [
    "The evaluation of the MATH test dataset provides me with correct and incorrect answers. I could change the prompt at my will."
   ]
  },
  {
   "cell_type": "markdown",
   "metadata": {},
   "source": [
    "## Imports"
   ]
  },
  {
   "cell_type": "code",
   "execution_count": 1,
   "metadata": {},
   "outputs": [],
   "source": [
    "import pandas as pd\n",
    "import json as json\n",
    "from tqdm.auto import tqdm\n",
    "import numpy as np\n",
    "import matplotlib.pyplot as plt\n",
    "import matplotlib as mpl\n",
    "import random\n",
    "\n",
    "from transformers import AutoTokenizer\n",
    "\n",
    "plt.plot()\n",
    "plt.close('all')\n",
    "plt.rcParams[\"figure.figsize\"] = (20, 5)\n",
    "mpl.rcParams['lines.linewidth'] = 3\n",
    "mpl.rcParams['font.size'] = 16"
   ]
  },
  {
   "cell_type": "markdown",
   "metadata": {},
   "source": [
    "## Data loading"
   ]
  },
  {
   "cell_type": "code",
   "execution_count": 2,
   "metadata": {},
   "outputs": [
    {
     "data": {
      "text/html": [
       "<div>\n",
       "<style scoped>\n",
       "    .dataframe tbody tr th:only-of-type {\n",
       "        vertical-align: middle;\n",
       "    }\n",
       "\n",
       "    .dataframe tbody tr th {\n",
       "        vertical-align: top;\n",
       "    }\n",
       "\n",
       "    .dataframe thead th {\n",
       "        text-align: right;\n",
       "    }\n",
       "</style>\n",
       "<table border=\"1\" class=\"dataframe\">\n",
       "  <thead>\n",
       "    <tr style=\"text-align: right;\">\n",
       "      <th></th>\n",
       "      <th>problem</th>\n",
       "      <th>level</th>\n",
       "      <th>type</th>\n",
       "      <th>solution</th>\n",
       "      <th>stage</th>\n",
       "      <th>source</th>\n",
       "      <th>n_boxed</th>\n",
       "      <th>answer</th>\n",
       "      <th>input_tokens</th>\n",
       "      <th>output_tokens</th>\n",
       "      <th>total_tokens</th>\n",
       "      <th>id</th>\n",
       "    </tr>\n",
       "  </thead>\n",
       "  <tbody>\n",
       "    <tr>\n",
       "      <th>0</th>\n",
       "      <td>John computes the sum of the elements of each ...</td>\n",
       "      <td>Level 5</td>\n",
       "      <td>Algebra</td>\n",
       "      <td>Among the two-element subsets of $\\{1,2,3,4,5,...</td>\n",
       "      <td>test</td>\n",
       "      <td>MATH</td>\n",
       "      <td>1</td>\n",
       "      <td>105</td>\n",
       "      <td>43</td>\n",
       "      <td>94</td>\n",
       "      <td>137</td>\n",
       "      <td>5572</td>\n",
       "    </tr>\n",
       "    <tr>\n",
       "      <th>1</th>\n",
       "      <td>Rationalize the denominator: $\\frac{1}{1 + \\sq...</td>\n",
       "      <td>Level 5</td>\n",
       "      <td>Algebra</td>\n",
       "      <td>We begin by grouping terms in the denominator ...</td>\n",
       "      <td>test</td>\n",
       "      <td>MATH</td>\n",
       "      <td>1</td>\n",
       "      <td>12</td>\n",
       "      <td>75</td>\n",
       "      <td>405</td>\n",
       "      <td>480</td>\n",
       "      <td>5583</td>\n",
       "    </tr>\n",
       "    <tr>\n",
       "      <th>2</th>\n",
       "      <td>Given that $f(2)=5$ and $f^{-1}(x+4)=2f^{-1}(x...</td>\n",
       "      <td>Level 5</td>\n",
       "      <td>Algebra</td>\n",
       "      <td>Note that $f(2)=5$ implies $f^{-1}(5)=2$. Appl...</td>\n",
       "      <td>test</td>\n",
       "      <td>MATH</td>\n",
       "      <td>1</td>\n",
       "      <td>23</td>\n",
       "      <td>42</td>\n",
       "      <td>148</td>\n",
       "      <td>190</td>\n",
       "      <td>5584</td>\n",
       "    </tr>\n",
       "    <tr>\n",
       "      <th>3</th>\n",
       "      <td>Simplify $\\frac{3}{\\sqrt[5]{16}}+\\frac{1}{\\sqr...</td>\n",
       "      <td>Level 5</td>\n",
       "      <td>Algebra</td>\n",
       "      <td>Rationalizing each of the two fractions on its...</td>\n",
       "      <td>test</td>\n",
       "      <td>MATH</td>\n",
       "      <td>1</td>\n",
       "      <td>5</td>\n",
       "      <td>81</td>\n",
       "      <td>250</td>\n",
       "      <td>331</td>\n",
       "      <td>5600</td>\n",
       "    </tr>\n",
       "    <tr>\n",
       "      <th>4</th>\n",
       "      <td>Let $f$ be defined by  \\[f(x) = \\left\\{\\n\\begi...</td>\n",
       "      <td>Level 5</td>\n",
       "      <td>Algebra</td>\n",
       "      <td>The number $f^{-1}(0)$ is the value of $x$ suc...</td>\n",
       "      <td>test</td>\n",
       "      <td>MATH</td>\n",
       "      <td>1</td>\n",
       "      <td>0</td>\n",
       "      <td>89</td>\n",
       "      <td>744</td>\n",
       "      <td>833</td>\n",
       "      <td>5633</td>\n",
       "    </tr>\n",
       "  </tbody>\n",
       "</table>\n",
       "</div>"
      ],
      "text/plain": [
       "                                             problem    level     type  \\\n",
       "0  John computes the sum of the elements of each ...  Level 5  Algebra   \n",
       "1  Rationalize the denominator: $\\frac{1}{1 + \\sq...  Level 5  Algebra   \n",
       "2  Given that $f(2)=5$ and $f^{-1}(x+4)=2f^{-1}(x...  Level 5  Algebra   \n",
       "3  Simplify $\\frac{3}{\\sqrt[5]{16}}+\\frac{1}{\\sqr...  Level 5  Algebra   \n",
       "4  Let $f$ be defined by  \\[f(x) = \\left\\{\\n\\begi...  Level 5  Algebra   \n",
       "\n",
       "                                            solution stage source  n_boxed  \\\n",
       "0  Among the two-element subsets of $\\{1,2,3,4,5,...  test   MATH        1   \n",
       "1  We begin by grouping terms in the denominator ...  test   MATH        1   \n",
       "2  Note that $f(2)=5$ implies $f^{-1}(5)=2$. Appl...  test   MATH        1   \n",
       "3  Rationalizing each of the two fractions on its...  test   MATH        1   \n",
       "4  The number $f^{-1}(0)$ is the value of $x$ suc...  test   MATH        1   \n",
       "\n",
       "   answer  input_tokens  output_tokens  total_tokens    id  \n",
       "0     105            43             94           137  5572  \n",
       "1      12            75            405           480  5583  \n",
       "2      23            42            148           190  5584  \n",
       "3       5            81            250           331  5600  \n",
       "4       0            89            744           833  5633  "
      ]
     },
     "execution_count": 2,
     "metadata": {},
     "output_type": "execute_result"
    }
   ],
   "source": [
    "dataset = pd.read_csv('/mnt/hdd0/Kaggle/aimo/external_data/filtered_MATH_test_5.csv')\n",
    "dataset.head()"
   ]
  },
  {
   "cell_type": "code",
   "execution_count": 3,
   "metadata": {},
   "outputs": [
    {
     "data": {
      "text/plain": [
       "580"
      ]
     },
     "execution_count": 3,
     "metadata": {},
     "output_type": "execute_result"
    }
   ],
   "source": [
    "len(dataset)"
   ]
  },
  {
   "cell_type": "code",
   "execution_count": 4,
   "metadata": {},
   "outputs": [
    {
     "data": {
      "text/plain": [
       "580"
      ]
     },
     "execution_count": 4,
     "metadata": {},
     "output_type": "execute_result"
    }
   ],
   "source": [
    "with open('/mnt/hdd0/Kaggle/aimo/experiments/17_vllm/400_repetitions.json', 'r') as file:\n",
    "    responses = json.load(file)\n",
    "len(responses)"
   ]
  },
  {
   "cell_type": "code",
   "execution_count": 5,
   "metadata": {},
   "outputs": [
    {
     "data": {
      "text/plain": [
       "'n solve the problem by writing a Python program.\\n\\n'"
      ]
     },
     "execution_count": 5,
     "metadata": {},
     "output_type": "execute_result"
    }
   ],
   "source": [
    "responses['0'][0]['prompt'][-50:]"
   ]
  },
  {
   "cell_type": "markdown",
   "metadata": {},
   "source": [
    "## Data filtering"
   ]
  },
  {
   "cell_type": "markdown",
   "metadata": {},
   "source": [
    "I will use the following definition of good and bad responses:\n",
    "\n",
    "- A good response is one where the text and code answer is the same and equal to the ground truth.\n",
    "- A bad response is one where there is at least text answer and it is different to the ground truth."
   ]
  },
  {
   "cell_type": "code",
   "execution_count": 6,
   "metadata": {},
   "outputs": [
    {
     "data": {
      "application/vnd.jupyter.widget-view+json": {
       "model_id": "93fe8a742b074887be38fd44897e348b",
       "version_major": 2,
       "version_minor": 0
      },
      "text/plain": [
       "  0%|          | 0/580 [00:00<?, ?it/s]"
      ]
     },
     "metadata": {},
     "output_type": "display_data"
    }
   ],
   "source": [
    "good_responses = dict()\n",
    "bad_responses = dict()\n",
    "\n",
    "for idx, ground_truth in tqdm(enumerate(dataset['answer']), total=len(dataset)):\n",
    "    good_responses[idx] = []\n",
    "    bad_responses[idx] = []\n",
    "    for result in responses[str(idx)]:\n",
    "        if ground_truth == result['text_answer'] and ground_truth == result['code_answer']:\n",
    "            good_responses[idx].append(result['response'])\n",
    "        if ground_truth != result['text_answer'] and result['text_answer'] is not None:\n",
    "            bad_responses[idx].append(result['response'])\n",
    "    # remove repetitions\n",
    "    good_responses[idx] = list(set(good_responses[idx]))\n",
    "    bad_responses[idx] = list(set(bad_responses[idx]))"
   ]
  },
  {
   "cell_type": "markdown",
   "metadata": {},
   "source": [
    "Let's study the distribution of good and bad responses."
   ]
  },
  {
   "cell_type": "code",
   "execution_count": 7,
   "metadata": {},
   "outputs": [
    {
     "data": {
      "image/png": "[encoded data removed]",
      "text/plain": [
       "<Figure size 2000x500 with 1 Axes>"
      ]
     },
     "metadata": {},
     "output_type": "display_data"
    }
   ],
   "source": [
    "plt.bar(np.arange(580), [len(good_responses[idx]) for idx in range(580)], label='Good responses')\n",
    "plt.bar(np.arange(580), [len(bad_responses[idx]) for idx in range(580)], label='Bad responses', bottom=[len(good_responses[idx]) for idx in range(580)])\n",
    "plt.xlim(-1, 580)\n",
    "plt.legend()\n",
    "plt.xlabel('Question index')\n",
    "plt.ylabel('Number of responses');"
   ]
  },
  {
   "cell_type": "code",
   "execution_count": 8,
   "metadata": {},
   "outputs": [],
   "source": [
    "def show_random_responses(idx):\n",
    "    print('Ground truth:', dataset['answer'][idx])\n",
    "    print('Good response:')\n",
    "    print(random.choice(good_responses[idx]))\n",
    "    print('\\n\\nBad responses:')\n",
    "    print(random.choice(bad_responses[idx]))"
   ]
  },
  {
   "cell_type": "code",
   "execution_count": 9,
   "metadata": {},
   "outputs": [
    {
     "name": "stdout",
     "output_type": "stream",
     "text": [
      "Ground truth: 40\n",
      "Good response:\n",
      "```python\n",
      "from sympy import symbols, pi, solve, simplify\n",
      "\n",
      "def volume_of_sphere():\n",
      "    r = symbols('r')\n",
      "    volume_cylinder = 60  # given\n",
      "    # volume of cylinder = pi*r^2*h. Here, h = 2r (for a cylinder that circumscribes a sphere),\n",
      "    # so volume of cylinder = pi*r^2*2r = 2*pi*r^3.\n",
      "    # Setting this equal to the given volume of the cylinder gives us the value of r.\n",
      "    r_value = solve(2*pi*r**3 - volume_cylinder, r)[0]\n",
      "\n",
      "    # Now that we have r, we can find the volume of the sphere (4/3*pi*r^3).\n",
      "    volume_sphere = simplify(4/3 * pi * r_value**3)\n",
      "\n",
      "    return volume_sphere\n",
      "\n",
      "result = volume_of_sphere()\n",
      "print(result)\n",
      "``````output\n",
      "40.0000000000000\n",
      "```\n",
      "The volume of the sphere is $\\boxed{40}$ cubic centimeters. The answer is: $40$\n",
      "\n",
      "\n",
      "Bad responses:\n",
      "```python\n",
      "from sympy import symbols, solve, pi\n",
      "\n",
      "def calculate_volume():\n",
      "    # r is the radius of the cylinder\n",
      "    r = symbols('r')\n",
      "\n",
      "    # The volume of a cylinder is πr²h, and here h = 2r (the diameter of the cylinder is the diameter of the sphere)\n",
      "    # So the volume of the cylinder is πr³\n",
      "    cylinder_volume = pi * r**3\n",
      "\n",
      "    # Given that the volume of the cylinder is 60 cubic cm\n",
      "    equation = cylinder_volume - 60\n",
      "\n",
      "    # Solve for r\n",
      "    r_solution = solve(equation, r)[0]\n",
      "\n",
      "    # The volume of a sphere is (4/3)πr³\n",
      "    sphere_volume = (4/3) * pi * (r_solution**3)\n",
      "\n",
      "    return sphere_volume\n",
      "\n",
      "result = calculate_volume()\n",
      "print(result)\n",
      "``````output\n",
      "80.0000000000000\n",
      "```\n",
      "The volume of the sphere is 80 cubic centimeters. The answer is: $80$.\n"
     ]
    }
   ],
   "source": [
    "show_random_responses(200)"
   ]
  },
  {
   "cell_type": "markdown",
   "metadata": {},
   "source": [
    "This looks correct."
   ]
  },
  {
   "cell_type": "markdown",
   "metadata": {},
   "source": [
    "Let's also gather the prompts."
   ]
  },
  {
   "cell_type": "code",
   "execution_count": 10,
   "metadata": {},
   "outputs": [
    {
     "name": "stderr",
     "output_type": "stream",
     "text": [
      "Special tokens have been added in the vocabulary, make sure the associated word embeddings are fine-tuned or trained.\n"
     ]
    }
   ],
   "source": [
    "max_prompt_length = 300\n",
    "tokenizer = AutoTokenizer.from_pretrained('/home/gbarbadillo/data/deepseekmath')\n",
    "unique_prompts = dict()\n",
    "for idx in range(580):\n",
    "    results = responses[str(idx)]\n",
    "    unique_prompts[idx] = list(set([result['prompt'] for result in results]))\n",
    "    unique_prompts[idx] = [prompt for prompt in unique_prompts[idx] if len(tokenizer.tokenize(prompt)) < max_prompt_length]"
   ]
  },
  {
   "cell_type": "markdown",
   "metadata": {},
   "source": [
    "## Creating dataset for DPO"
   ]
  },
  {
   "cell_type": "markdown",
   "metadata": {},
   "source": [
    "At this point I have good and bad responses. I have to create pairs of them.\n",
    "\n",
    "For this first version of the dataset I'm going to avoid repetitions. But on future version I could create many more pairs."
   ]
  },
  {
   "cell_type": "code",
   "execution_count": 11,
   "metadata": {},
   "outputs": [
    {
     "data": {
      "text/plain": [
       "25450"
      ]
     },
     "execution_count": 11,
     "metadata": {},
     "output_type": "execute_result"
    }
   ],
   "source": [
    "chosen, rejected, prompt, problem_idx = [], [], [], []\n",
    "n_pairs = 50\n",
    "for idx in range(580):\n",
    "    if unique_prompts[idx] and good_responses[idx] and bad_responses[idx]:\n",
    "        chosen.extend(np.random.choice(good_responses[idx], n_pairs, replace=True).tolist())\n",
    "        rejected.extend(np.random.choice(bad_responses[idx], n_pairs, replace=True).tolist())\n",
    "        prompt.extend(np.random.choice(unique_prompts[idx], n_pairs, replace=True).tolist())\n",
    "        problem_idx.extend([idx] * n_pairs)\n",
    "assert len(chosen) == len(rejected) == len(problem_idx)\n",
    "len(chosen)"
   ]
  },
  {
   "cell_type": "markdown",
   "metadata": {},
   "source": [
    "Now let's gather prompts for the problems, let's reuse the results for that."
   ]
  },
  {
   "cell_type": "code",
   "execution_count": 12,
   "metadata": {},
   "outputs": [
    {
     "data": {
      "text/plain": [
       "(array([  0.,   0.,   0.,   0.,   0., 509.,   0.,   0.,   0.,   0.]),\n",
       " array([49.5, 49.6, 49.7, 49.8, 49.9, 50. , 50.1, 50.2, 50.3, 50.4, 50.5]),\n",
       " <BarContainer object of 10 artists>)"
      ]
     },
     "execution_count": 12,
     "metadata": {},
     "output_type": "execute_result"
    },
    {
     "data": {
      "image/png": "[encoded data removed]",
      "text/plain": [
       "<Figure size 2000x500 with 1 Axes>"
      ]
     },
     "metadata": {},
     "output_type": "display_data"
    }
   ],
   "source": [
    "plt.hist(np.unique(problem_idx, return_counts=True)[1])"
   ]
  },
  {
   "cell_type": "markdown",
   "metadata": {},
   "source": [
    "Many problems have a lot of good and bad responses."
   ]
  },
  {
   "cell_type": "code",
   "execution_count": 13,
   "metadata": {},
   "outputs": [
    {
     "data": {
      "text/html": [
       "<div>\n",
       "<style scoped>\n",
       "    .dataframe tbody tr th:only-of-type {\n",
       "        vertical-align: middle;\n",
       "    }\n",
       "\n",
       "    .dataframe tbody tr th {\n",
       "        vertical-align: top;\n",
       "    }\n",
       "\n",
       "    .dataframe thead th {\n",
       "        text-align: right;\n",
       "    }\n",
       "</style>\n",
       "<table border=\"1\" class=\"dataframe\">\n",
       "  <thead>\n",
       "    <tr style=\"text-align: right;\">\n",
       "      <th></th>\n",
       "      <th>prompt</th>\n",
       "      <th>chosen</th>\n",
       "      <th>rejected</th>\n",
       "      <th>problem_idx</th>\n",
       "    </tr>\n",
       "  </thead>\n",
       "  <tbody>\n",
       "    <tr>\n",
       "      <th>0</th>\n",
       "      <td>Below is a math problem you are to solve (non ...</td>\n",
       "      <td>```python\\nfrom itertools import combinations\\...</td>\n",
       "      <td>```python\\nfrom sympy import binomial, Rationa...</td>\n",
       "      <td>0</td>\n",
       "    </tr>\n",
       "    <tr>\n",
       "      <th>1</th>\n",
       "      <td>\\nUser: John computes the sum of the elements ...</td>\n",
       "      <td>```python\\nfrom itertools import combinations\\...</td>\n",
       "      <td>```python\\nfrom sympy import binomial, summati...</td>\n",
       "      <td>0</td>\n",
       "    </tr>\n",
       "    <tr>\n",
       "      <th>2</th>\n",
       "      <td>Below is a math problem you are to solve (non ...</td>\n",
       "      <td>```python\\nfrom itertools import combinations\\...</td>\n",
       "      <td>```python\\nfrom sympy import binomial, Rationa...</td>\n",
       "      <td>0</td>\n",
       "    </tr>\n",
       "    <tr>\n",
       "      <th>3</th>\n",
       "      <td>You are an expert mathematical programmer. Sol...</td>\n",
       "      <td>```python\\nfrom itertools import combinations\\...</td>\n",
       "      <td>```python\\nfrom sympy import *\\n\\ndef sum_of_s...</td>\n",
       "      <td>0</td>\n",
       "    </tr>\n",
       "    <tr>\n",
       "      <th>4</th>\n",
       "      <td>User: John computes the sum of the elements of...</td>\n",
       "      <td>```python\\nfrom itertools import combinations\\...</td>\n",
       "      <td>```python\\nfrom sympy import binomial, summati...</td>\n",
       "      <td>0</td>\n",
       "    </tr>\n",
       "  </tbody>\n",
       "</table>\n",
       "</div>"
      ],
      "text/plain": [
       "                                              prompt  \\\n",
       "0  Below is a math problem you are to solve (non ...   \n",
       "1  \\nUser: John computes the sum of the elements ...   \n",
       "2  Below is a math problem you are to solve (non ...   \n",
       "3  You are an expert mathematical programmer. Sol...   \n",
       "4  User: John computes the sum of the elements of...   \n",
       "\n",
       "                                              chosen  \\\n",
       "0  ```python\\nfrom itertools import combinations\\...   \n",
       "1  ```python\\nfrom itertools import combinations\\...   \n",
       "2  ```python\\nfrom itertools import combinations\\...   \n",
       "3  ```python\\nfrom itertools import combinations\\...   \n",
       "4  ```python\\nfrom itertools import combinations\\...   \n",
       "\n",
       "                                            rejected  problem_idx  \n",
       "0  ```python\\nfrom sympy import binomial, Rationa...            0  \n",
       "1  ```python\\nfrom sympy import binomial, summati...            0  \n",
       "2  ```python\\nfrom sympy import binomial, Rationa...            0  \n",
       "3  ```python\\nfrom sympy import *\\n\\ndef sum_of_s...            0  \n",
       "4  ```python\\nfrom sympy import binomial, summati...            0  "
      ]
     },
     "execution_count": 13,
     "metadata": {},
     "output_type": "execute_result"
    }
   ],
   "source": [
    "df = pd.DataFrame({'prompt': prompt, 'chosen': chosen, 'rejected': rejected, 'problem_idx': problem_idx})\n",
    "df.head()"
   ]
  },
  {
   "cell_type": "markdown",
   "metadata": {},
   "source": [
    "Finally let's remove the python codeblock start from the response to the prompt."
   ]
  },
  {
   "cell_type": "code",
   "execution_count": 14,
   "metadata": {},
   "outputs": [
    {
     "name": "stdout",
     "output_type": "stream",
     "text": [
      "1.0\n",
      "1.0\n"
     ]
    },
    {
     "data": {
      "text/plain": [
       "0.001100196463654224"
      ]
     },
     "execution_count": 14,
     "metadata": {},
     "output_type": "execute_result"
    }
   ],
   "source": [
    "print(df['chosen'].apply(lambda x: x.startswith('```python\\n')).mean())\n",
    "print(df['rejected'].apply(lambda x: x.startswith('```python\\n')).mean())\n",
    "df['prompt'].apply(lambda x: x.endswith('```python')).mean()"
   ]
  },
  {
   "cell_type": "code",
   "execution_count": 15,
   "metadata": {},
   "outputs": [],
   "source": [
    "df['chosen'] = df['chosen'].apply(lambda x: x[10:])\n",
    "df['rejected'] = df['rejected'].apply(lambda x: x[10:])"
   ]
  },
  {
   "cell_type": "code",
   "execution_count": 16,
   "metadata": {},
   "outputs": [],
   "source": [
    "df['prompt'] = df['prompt'].apply(lambda x: x + '\\n' if x.endswith('```python') else x + '```python\\n').values"
   ]
  },
  {
   "cell_type": "code",
   "execution_count": 17,
   "metadata": {},
   "outputs": [
    {
     "name": "stdout",
     "output_type": "stream",
     "text": [
      "0.0\n",
      "0.0\n"
     ]
    },
    {
     "data": {
      "text/plain": [
       "1.0"
      ]
     },
     "execution_count": 17,
     "metadata": {},
     "output_type": "execute_result"
    }
   ],
   "source": [
    "print(df['chosen'].apply(lambda x: x.startswith('```python\\n')).mean())\n",
    "print(df['rejected'].apply(lambda x: x.startswith('```python\\n')).mean())\n",
    "df['prompt'].apply(lambda x: x.endswith('```python\\n')).mean()"
   ]
  },
  {
   "cell_type": "markdown",
   "metadata": {},
   "source": [
    "Let's count the max lenght and max prompt length."
   ]
  },
  {
   "cell_type": "code",
   "execution_count": 18,
   "metadata": {},
   "outputs": [],
   "source": [
    "# df['max_prompt_length'] = df['prompt'].apply(lambda x: len(tokenizer.tokenize(x)))\n",
    "# df['chosen_length'] = df['chosen'].apply(lambda x: len(tokenizer.tokenize(x)))\n",
    "# df['rejected_length'] = df['rejected'].apply(lambda x: len(tokenizer.tokenize(x)))\n",
    "\n",
    "# print(f'Max prompt length: {df[\"max_prompt_length\"].max()}')\n",
    "# print(f'Max length: {df[\"max_prompt_length\"].max() + max(df[\"chosen_length\"].max(), df[\"rejected_length\"].max())}')"
   ]
  },
  {
   "cell_type": "markdown",
   "metadata": {},
   "source": [
    "- Max prompt length: 299\n",
    "- Max length: 937"
   ]
  },
  {
   "cell_type": "code",
   "execution_count": 19,
   "metadata": {},
   "outputs": [
    {
     "data": {
      "text/plain": [
       "509"
      ]
     },
     "execution_count": 19,
     "metadata": {},
     "output_type": "execute_result"
    }
   ],
   "source": [
    "len(df.problem_idx.unique())"
   ]
  },
  {
   "cell_type": "code",
   "execution_count": 20,
   "metadata": {},
   "outputs": [
    {
     "data": {
      "text/html": [
       "<div>\n",
       "<style scoped>\n",
       "    .dataframe tbody tr th:only-of-type {\n",
       "        vertical-align: middle;\n",
       "    }\n",
       "\n",
       "    .dataframe tbody tr th {\n",
       "        vertical-align: top;\n",
       "    }\n",
       "\n",
       "    .dataframe thead th {\n",
       "        text-align: right;\n",
       "    }\n",
       "</style>\n",
       "<table border=\"1\" class=\"dataframe\">\n",
       "  <thead>\n",
       "    <tr style=\"text-align: right;\">\n",
       "      <th></th>\n",
       "      <th>prompt</th>\n",
       "      <th>chosen</th>\n",
       "      <th>rejected</th>\n",
       "      <th>problem_idx</th>\n",
       "    </tr>\n",
       "  </thead>\n",
       "  <tbody>\n",
       "    <tr>\n",
       "      <th>0</th>\n",
       "      <td>Below is a math problem you are to solve (non ...</td>\n",
       "      <td>from itertools import combinations\\n\\ndef sum_...</td>\n",
       "      <td>from sympy import binomial, Rational, simplify...</td>\n",
       "      <td>0</td>\n",
       "    </tr>\n",
       "    <tr>\n",
       "      <th>1</th>\n",
       "      <td>\\nUser: John computes the sum of the elements ...</td>\n",
       "      <td>from itertools import combinations\\n\\ndef sum_...</td>\n",
       "      <td>from sympy import binomial, summation, symbols...</td>\n",
       "      <td>0</td>\n",
       "    </tr>\n",
       "    <tr>\n",
       "      <th>2</th>\n",
       "      <td>Below is a math problem you are to solve (non ...</td>\n",
       "      <td>from itertools import combinations\\n\\ndef sum_...</td>\n",
       "      <td>from sympy import binomial, Rational, simplify...</td>\n",
       "      <td>0</td>\n",
       "    </tr>\n",
       "    <tr>\n",
       "      <th>3</th>\n",
       "      <td>You are an expert mathematical programmer. Sol...</td>\n",
       "      <td>from itertools import combinations\\n\\ndef sum_...</td>\n",
       "      <td>from sympy import *\\n\\ndef sum_of_subset_sums(...</td>\n",
       "      <td>0</td>\n",
       "    </tr>\n",
       "    <tr>\n",
       "      <th>4</th>\n",
       "      <td>User: John computes the sum of the elements of...</td>\n",
       "      <td>from itertools import combinations\\n\\ndef sum_...</td>\n",
       "      <td>from sympy import binomial, summation, symbols...</td>\n",
       "      <td>0</td>\n",
       "    </tr>\n",
       "  </tbody>\n",
       "</table>\n",
       "</div>"
      ],
      "text/plain": [
       "                                              prompt  \\\n",
       "0  Below is a math problem you are to solve (non ...   \n",
       "1  \\nUser: John computes the sum of the elements ...   \n",
       "2  Below is a math problem you are to solve (non ...   \n",
       "3  You are an expert mathematical programmer. Sol...   \n",
       "4  User: John computes the sum of the elements of...   \n",
       "\n",
       "                                              chosen  \\\n",
       "0  from itertools import combinations\\n\\ndef sum_...   \n",
       "1  from itertools import combinations\\n\\ndef sum_...   \n",
       "2  from itertools import combinations\\n\\ndef sum_...   \n",
       "3  from itertools import combinations\\n\\ndef sum_...   \n",
       "4  from itertools import combinations\\n\\ndef sum_...   \n",
       "\n",
       "                                            rejected  problem_idx  \n",
       "0  from sympy import binomial, Rational, simplify...            0  \n",
       "1  from sympy import binomial, summation, symbols...            0  \n",
       "2  from sympy import binomial, Rational, simplify...            0  \n",
       "3  from sympy import *\\n\\ndef sum_of_subset_sums(...            0  \n",
       "4  from sympy import binomial, summation, symbols...            0  "
      ]
     },
     "execution_count": 20,
     "metadata": {},
     "output_type": "execute_result"
    }
   ],
   "source": [
    "df.to_csv('/mnt/hdd0/Kaggle/aimo/external_data/dpo/v2.csv', index=False)\n",
    "df.head()"
   ]
  }
 ],
 "metadata": {
  "kernelspec": {
   "display_name": "aimo",
   "language": "python",
   "name": "python3"
  },
  "language_info": {
   "codemirror_mode": {
    "name": "ipython",
    "version": 3
   },
   "file_extension": ".py",
   "mimetype": "text/x-python",
   "name": "python",
   "nbconvert_exporter": "python",
   "pygments_lexer": "ipython3",
   "version": "3.10.14"
  }
 },
 "nbformat": 4,
 "nbformat_minor": 2
}
