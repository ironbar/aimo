{
 "cells": [
  {
   "cell_type": "markdown",
   "metadata": {},
   "source": [
    "# Improve response parsing"
   ]
  },
  {
   "cell_type": "markdown",
   "metadata": {},
   "source": [
    "## Imports"
   ]
  },
  {
   "cell_type": "code",
   "execution_count": null,
   "metadata": {},
   "outputs": [],
   "source": [
    "import json\n",
    "import re"
   ]
  },
  {
   "cell_type": "markdown",
   "metadata": {},
   "source": [
    "## Experiments"
   ]
  },
  {
   "cell_type": "markdown",
   "metadata": {},
   "source": [
    "### Code"
   ]
  },
  {
   "cell_type": "code",
   "execution_count": null,
   "metadata": {},
   "outputs": [],
   "source": [
    "def text_to_int_answer(text):\n",
    "    try:\n",
    "        answer = float(text)\n",
    "        if answer < 0 or not answer.is_integer():\n",
    "            return None\n",
    "        return int(answer)\n",
    "    except (ValueError, OverflowError):\n",
    "        return None"
   ]
  },
  {
   "cell_type": "code",
   "execution_count": null,
   "metadata": {},
   "outputs": [],
   "source": [
    "def parse_boxed_answer(text):\n",
    "    matches = re.findall(r'\\\\boxed\\{(\\d+)\\}', text)\n",
    "    if matches:\n",
    "        return text_to_int_answer(matches[-1])\n",
    "    return None"
   ]
  },
  {
   "cell_type": "code",
   "execution_count": null,
   "metadata": {},
   "outputs": [],
   "source": [
    "def parse_last_answer(text):\n",
    "    pattern = r'(?:the answer is|the final answer is)\\s*:?\\s*\\$?(\\d+(\\.\\d+)?)\\$?'\n",
    "    matches = re.findall(pattern, text, re.IGNORECASE)\n",
    "    if matches:\n",
    "        return text_to_int_answer(matches[-1][0])\n",
    "    return None\n",
    "\n",
    "def parse_answer(text):\n",
    "    answer = parse_boxed_answer(text)\n",
    "    if answer is not None:\n",
    "        return answer\n",
    "    return parse_last_answer(text)"
   ]
  },
  {
   "cell_type": "code",
   "execution_count": null,
   "metadata": {},
   "outputs": [],
   "source": [
    "test_cases = [\n",
    "    ('The answer is: $651$', 651),\n",
    "    ('The answer is: $5$.', 5),\n",
    "    ('The answer is: 6.', 6),\n",
    "    ('The final answer is 0.', 0),\n",
    "    ('The final answer is 126.', 126),\n",
    "    ('The final answer is: $2$.', 2),\n",
    "    ('The answer is $\\\\boxed{3}$', 3),\n",
    "    ('The answer is $\\\\boxed{-1}$', None),\n",
    "    ('The answer is $\\\\boxed{1.5}$', None),\n",
    "    ('The answer is: $-1$.', None),\n",
    "    ('The answer is: $4.5$.', None),\n",
    "    ('The final answer is 0.6', None),\n",
    "]\n",
    "for text, answer in test_cases:\n",
    "    assert parse_answer(text) == answer, (text, parse_answer(text))\n",
    "    assert parse_answer(text.lower()) == answer, text"
   ]
  },
  {
   "cell_type": "markdown",
   "metadata": {},
   "source": [
    "### Verify with real results"
   ]
  },
  {
   "cell_type": "code",
   "execution_count": null,
   "metadata": {},
   "outputs": [],
   "source": [
    "results_filepath = '/mnt/hdd0/Kaggle/aimo/experiments/12_prompt_variations/2024-05-18_13:46:51_results.json'\n",
    "results_filepath = '/mnt/hdd0/Kaggle/aimo/experiments/12_prompt_variations/2024-05-18_10:02:56_results.json'\n",
    "results_filepath = '/mnt/hdd0/Kaggle/aimo/experiments/12_prompt_variations/2024-05-18_10:06:31_results.json'\n",
    "results_filepath = '/mnt/hdd0/Kaggle/aimo/experiments/09_evaluate_MATH5/2024-05-15_11:53:30_results.json'\n",
    "results_filepath = '/mnt/hdd0/Kaggle/aimo/experiments/09_evaluate_MATH5/2024-05-15_11:33:15_results.json'\n",
    "with open(results_filepath) as f:\n",
    "    data = json.load(f)"
   ]
  },
  {
   "cell_type": "code",
   "execution_count": null,
   "metadata": {},
   "outputs": [],
   "source": [
    "results = [values[0] for values in data.values()]\n",
    "print(len(results))\n",
    "unparsed_responses = []\n",
    "for result in results:\n",
    "    answer = parse_answer(result['response'])\n",
    "    if answer is None:\n",
    "        if not result['reached_max_tokens'] and result['coding_errors'] < 2:\n",
    "            unparsed_responses.append(result)\n",
    "len(unparsed_responses)"
   ]
  },
  {
   "cell_type": "code",
   "execution_count": null,
   "metadata": {},
   "outputs": [],
   "source": [
    "print(unparsed_responses[13]['response'])"
   ]
  },
  {
   "cell_type": "code",
   "execution_count": null,
   "metadata": {},
   "outputs": [],
   "source": [
    "unparsed_responses[3]['response'][-100:]"
   ]
  },
  {
   "cell_type": "code",
   "execution_count": null,
   "metadata": {},
   "outputs": [],
   "source": [
    "parse_boxed_answer(unparsed_responses[3]['response'][-100:])"
   ]
  },
  {
   "cell_type": "code",
   "execution_count": null,
   "metadata": {},
   "outputs": [],
   "source": [
    "parse_boxed_answer(unparsed_responses[3]['response'])"
   ]
  }
 ],
 "metadata": {
  "kernelspec": {
   "display_name": "prometeo",
   "language": "python",
   "name": "python3"
  },
  "language_info": {
   "codemirror_mode": {
    "name": "ipython",
    "version": 3
   },
   "file_extension": ".py",
   "mimetype": "text/x-python",
   "name": "python",
   "nbconvert_exporter": "python",
   "pygments_lexer": "ipython3",
   "version": "3.10.13"
  }
 },
 "nbformat": 4,
 "nbformat_minor": 2
}
